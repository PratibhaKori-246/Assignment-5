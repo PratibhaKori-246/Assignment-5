{
 "cells": [
  {
   "cell_type": "markdown",
   "id": "ab880218-f03f-4999-92e2-374be1ab11fe",
   "metadata": {},
   "source": [
    "# Assignment - 5 (OOPS)"
   ]
  },
  {
   "cell_type": "markdown",
   "id": "f33bf808-098c-4391-b333-33e8223c0f63",
   "metadata": {},
   "source": [
    "Q 1. What are the key concepts of objects - oriented programming(oop) ?"
   ]
  },
  {
   "cell_type": "markdown",
   "id": "e6a5bd86-3f92-43f3-84f5-f911c80c5ef5",
   "metadata": {},
   "source": [
    "Object-Oriented Programming (OOP) is a programming paradigm that organizes software design around objects rather than functions or logic. The key concepts of OOP are:\n",
    "\n",
    "1. Classes and Objects:   It defines properties (attributes) and behaviors (methods) that the created objects will have.\n",
    "\n",
    "2. Encapsulation:   Bundling data (attributes) and methods (functions) that operate on the data within a single unit (class), restricting direct access to some components.\n",
    "\n",
    "3. Inheritance:    A mechanism that allows one class (child or subclass) to inherit attributes and methods from another class (parent or superclass).\n",
    "\n",
    "4. Polymorphism:    The ability to present the same interface for different data types or classes. It allows objects of different classes to be treated as objects of a common superclass.\n",
    "\n",
    "5.  Abstraction:   Hiding the complex implementation details and exposing only the essential features of an object."
   ]
  },
  {
   "cell_type": "markdown",
   "id": "f967d741-9654-47d8-aebd-73bf2f7ff1a7",
   "metadata": {},
   "source": [
    "Q 2. Write a pyhton class for a car with attributes for make , model and year include a method to display the car's information."
   ]
  },
  {
   "cell_type": "code",
   "execution_count": 9,
   "id": "ae39d6b6-44fe-430e-bfe2-304c5bfb22f7",
   "metadata": {},
   "outputs": [
    {
     "name": "stdout",
     "output_type": "stream",
     "text": [
      "Car Information: 2024 Toyota BMW\n"
     ]
    }
   ],
   "source": [
    "class Car:\n",
    "    def __init__(self, make, model, year):\n",
    "       \n",
    "        self.make = make\n",
    "        self.model = model\n",
    "        self.year = year\n",
    "\n",
    "    def display_info(self):\n",
    "        \n",
    "        print(f\"Car Information: {self.year} {self.make} {self.model}\")\n",
    "\n",
    "\n",
    "my_car = Car(\"Toyota\", \"BMW\", 2024)\n",
    "my_car.display_info()"
   ]
  },
  {
   "cell_type": "markdown",
   "id": "f9094d4b-fbc7-4e1e-b1e4-c293705378e6",
   "metadata": {},
   "source": [
    "Q 3. Explain the difference between instance methods and class methods .Provide an example of each."
   ]
  },
  {
   "cell_type": "markdown",
   "id": "2ca6fefb-2582-433d-993f-c23a4ba7dcaf",
   "metadata": {},
   "source": [
    "1. Instance Methods:\n",
    "\n",
    " Instance methods are the most common type of methods in a class. They operate on an instance of the class and can access and modify the instance's attributes.\n",
    "\n",
    "Key Point: The first parameter of an instance method is always self, which refers to the specific instance (object) calling the method."
   ]
  },
  {
   "cell_type": "code",
   "execution_count": 10,
   "id": "26d6995f-7521-460e-b612-b189e1f3f770",
   "metadata": {},
   "outputs": [
    {
     "name": "stdout",
     "output_type": "stream",
     "text": [
      "Car Information: 2024 Toyota BMW\n"
     ]
    }
   ],
   "source": [
    "class Car:\n",
    "    def __init__(self, make, model, year):\n",
    "       \n",
    "        self.make = make\n",
    "        self.model = model\n",
    "        self.year = year\n",
    "\n",
    "    def display_info(self):\n",
    "        \n",
    "        print(f\"Car Information: {self.year} {self.make} {self.model}\")\n",
    "\n",
    "\n",
    "my_car = Car(\"Toyota\", \"BMW\", 2024)\n",
    "my_car.display_info()"
   ]
  },
  {
   "cell_type": "markdown",
   "id": "ce22d81f-321e-41dc-9334-9973a4be5c31",
   "metadata": {},
   "source": [
    "2. Class Methods:\n",
    "\n",
    " Class methods are methods that operate on the class itself rather than on instances. They are bound to the class and cannot modify instance-specific data, but they can modify class-level data.\n",
    "\n",
    "Key Point: The first parameter of a class method is cls, which refers to the class itself (not an instance). Class methods are marked with the @classmethod decorator."
   ]
  },
  {
   "cell_type": "code",
   "execution_count": 16,
   "id": "180b7a3f-b7e9-47a7-bfa6-911f8fa73371",
   "metadata": {},
   "outputs": [
    {
     "name": "stdout",
     "output_type": "stream",
     "text": [
      "Car Information: 2024 Toyota BMW\n",
      "Total number of cars: 2\n"
     ]
    }
   ],
   "source": [
    "class Car:\n",
    "    total_cars = 0\n",
    "\n",
    "    def __init__(self, make, model, year):\n",
    "        self.make = make\n",
    "        self.model = model\n",
    "        self.year = year\n",
    "        Car.total_cars += 1  \n",
    "\n",
    "    def display_info(self):\n",
    "        print(f\"Car Information: {self.year} {self.make} {self.model}\")\n",
    "\n",
    "    @classmethod\n",
    "    def display_total_cars(cls):\n",
    "        print(f\"Total number of cars: {cls.total_cars}\")\n",
    "\n",
    "car1 = Car(\"Toyota\", \"BMW\", 2024)\n",
    "car2 = Car(\"Honda\", \"Audi\", 2023)\n",
    "\n",
    "car1.display_info() \n",
    "\n",
    "Car.display_total_cars()"
   ]
  },
  {
   "cell_type": "markdown",
   "id": "056c17db-a643-4695-bff7-8a1b68ad229d",
   "metadata": {},
   "source": [
    "Q4. How does python implement method overloading ? Give an example."
   ]
  },
  {
   "cell_type": "markdown",
   "id": "8d9d1976-04a7-4450-97d7-3270a5a0df7e",
   "metadata": {},
   "source": [
    "In Python, method overloading (the ability to define multiple methods with the same name but different signatures) is not directly supported as it is in some other languages like Java or C++. Instead, Python allows you to achieve similar functionality through default arguments, variable-length arguments (*args and **kwargs), and conditional logic within a method."
   ]
  },
  {
   "cell_type": "code",
   "execution_count": 17,
   "id": "d96a3c03-a33a-4c10-b679-6b3cf5a34ae2",
   "metadata": {},
   "outputs": [
    {
     "name": "stdout",
     "output_type": "stream",
     "text": [
      "12\n",
      "13\n",
      "11\n",
      "0\n"
     ]
    }
   ],
   "source": [
    "class Calculator:\n",
    "    def add(self, *args):\n",
    "        return sum(args)\n",
    "\n",
    "calc = Calculator()\n",
    "\n",
    "print(calc.add(5, 7))       \n",
    "print(calc.add(3, 8, 2))      \n",
    "print(calc.add(11))           \n",
    "print(calc.add()) "
   ]
  },
  {
   "cell_type": "markdown",
   "id": "b9f5fecb-6063-480a-9530-65f63901572d",
   "metadata": {},
   "source": [
    "Q5 . What are the Three types of access modifiers in python ? How are they denoted ? "
   ]
  },
  {
   "cell_type": "markdown",
   "id": "34ee96d6-c2a4-47a3-802b-ac23fa52f5dc",
   "metadata": {},
   "source": [
    "In Python, access modifiers  control the visibility and accessibility of class attributes and methods.  Here are the three types of access levels in Python and how they are denoted:\n",
    "\n",
    "1. Public:\n",
    "\n",
    "Definition: Public attributes and methods are accessible from outside the class. They can be freely accessed and modified.\n",
    "\n",
    "Denotation: No special prefix is used. Just use the attribute or method name as it is.\n",
    "\n",
    "2. Protected:\n",
    "\n",
    "Definition: Protected attributes and methods are intended to be accessed only within the class and its subclasses. They are not intended to be accessed directly from outside the class.\n",
    "\n",
    "Denotation: Use a single underscore (_) prefix. This is a convention indicating that the attribute or method is intended for internal use.\n",
    "\n",
    "3.  Private:\n",
    "\n",
    "Definition: Private attributes and methods are intended to be accessible only within the class they are defined in. They are not accessible from outside the class or its subclasses.\n",
    "\n",
    "Denotation: Use a double underscore (__) prefix. This triggers name, where the attribute or method name is altered to make it harder to accidentally access from outside the class."
   ]
  },
  {
   "cell_type": "markdown",
   "id": "584dfb76-65b9-4190-87bd-a45db9aa332c",
   "metadata": {},
   "source": [
    "Q 6. Describe the five types of inheritance in python . Provide a simple example of multiple inheritance."
   ]
  },
  {
   "cell_type": "markdown",
   "id": "60d887f4-c1e1-4a7f-a07a-3619ab351b1e",
   "metadata": {},
   "source": [
    "Inheritance in Python allows a class to inherit attributes and methods from another class, promoting code reuse and organization. \n",
    "\n",
    "🔹Single Inheritance:\n",
    "\n",
    "Definition: A class (subclass) inherits from a single parent class (superclass). This is the simplest form of inheritance.\n",
    "\n",
    "🔹Multiple Inheritance:\n",
    "\n",
    "Definition: A class inherits from more than one parent class. This allows a subclass to combine functionalities from multiple base classes.\n",
    "\n",
    "🔹Multilevel Inheritance:\n",
    "\n",
    "Definition: A class inherits from another class, which is also derived from another class. This forms a chain of inheritance.\n",
    "\n",
    "🔹Hierarchical Inheritance:\n",
    "\n",
    "Definition: Multiple classes inherit from a single parent class. This allows the parent class to provide a common interface or functionality.\n",
    "\n",
    "🔹Hybrid Inheritance:\n",
    "\n",
    "Definition: A combination of two or more types of inheritance. This can involve a mix of single, multiple, multilevel, and hierarchical inheritance.\n"
   ]
  },
  {
   "cell_type": "code",
   "execution_count": 24,
   "id": "12057d9d-d1a8-4fc1-8e51-572a52286500",
   "metadata": {},
   "outputs": [
    {
     "name": "stdout",
     "output_type": "stream",
     "text": [
      "teacher_pass\n",
      "specialisation\n",
      "fun period\n"
     ]
    }
   ],
   "source": [
    "class teacher:\n",
    "    def teacher_pass(period):\n",
    "        print(\"teacher_pass\")\n",
    "\n",
    "class subjects:\n",
    "    def specialisation(period):\n",
    "        print(\"specialisation\")\n",
    "\n",
    "class school(teacher , subjects):  \n",
    "    def fun_time(period):\n",
    "        print(\"fun period\")\n",
    "\n",
    "my_school = school()\n",
    "\n",
    "my_school.teacher_pass()  \n",
    "my_school.specialisation()        \n",
    "my_school.fun_time()      "
   ]
  },
  {
   "cell_type": "markdown",
   "id": "816c79a3-b153-4c33-84de-19c4eb9d9e84",
   "metadata": {},
   "source": [
    "Q 7 .What is the method resolution order(MRO) in python ? How  can you retrieve it programmatically?"
   ]
  },
  {
   "cell_type": "markdown",
   "id": "64d73c49-8387-459a-9ea2-0728bdba11fa",
   "metadata": {},
   "source": [
    "Method Resolution Order (MRO) is the order in which Python searches for a method in a class hierarchy when a method is called on an instance. It determines the sequence of classes that Python will look through to find the method or attribute."
   ]
  },
  {
   "cell_type": "code",
   "execution_count": 25,
   "id": "9534906d-23d9-4808-b8a6-ed5624cd8cad",
   "metadata": {},
   "outputs": [
    {
     "name": "stdout",
     "output_type": "stream",
     "text": [
      "Method in B\n",
      "(<class '__main__.D'>, <class '__main__.B'>, <class '__main__.C'>, <class '__main__.A'>, <class 'object'>)\n"
     ]
    }
   ],
   "source": [
    "class A:\n",
    "    def method(self):\n",
    "        print(\"Method in A\")\n",
    "\n",
    "class B(A):\n",
    "    def method(self):\n",
    "        print(\"Method in B\")\n",
    "\n",
    "class C(A):\n",
    "    def method(self):\n",
    "        print(\"Method in C\")\n",
    "\n",
    "class D(B, C):\n",
    "    pass\n",
    "obj = D()\n",
    "obj.method() \n",
    "\n",
    "print(D.__mro__)"
   ]
  },
  {
   "cell_type": "markdown",
   "id": "8b647528-d3d0-4ca7-aef1-8d149e156762",
   "metadata": {},
   "source": [
    "Q8. Create an abstract base class 'shape' with an abstract method area(  )  . Then create two subclasses circle and rectangle  the area(  ) method."
   ]
  },
  {
   "cell_type": "code",
   "execution_count": 26,
   "id": "29c0991c-d305-4f9d-8281-72fbe52eb349",
   "metadata": {},
   "outputs": [],
   "source": [
    "#an abstract base class 'shape' with an abstract method area( ).\n",
    "\n",
    "from abc import ABC, abstractmethod\n",
    "import math\n",
    "\n",
    "class Shape(ABC):\n",
    "    @abstractmethod\n",
    "    def area(self):\n",
    "        pass"
   ]
  },
  {
   "cell_type": "code",
   "execution_count": 30,
   "id": "e14c1a13-c095-46ab-ac19-652383f952d0",
   "metadata": {},
   "outputs": [
    {
     "name": "stdout",
     "output_type": "stream",
     "text": [
      "Circle area: 28.274333882308138\n",
      "Rectangle area: 14\n"
     ]
    }
   ],
   "source": [
    "#two subclasses circle and rectangle \n",
    "\n",
    "class Circle(Shape):\n",
    "    def __init__(self, radius):\n",
    "        self.radius = radius\n",
    "\n",
    "    def area(self):\n",
    "        return math.pi * (self.radius ** 2)\n",
    "\n",
    "class Rectangle(Shape):\n",
    "    def __init__(self, width, height):\n",
    "        self.width = width\n",
    "        self.height = height\n",
    "\n",
    "    def area(self):\n",
    "        return self.width * self.height\n",
    "\n",
    "circle = Circle(3)\n",
    "rectangle = Rectangle(2 ,7)\n",
    "\n",
    "print(f\"Circle area: {circle.area()}\") \n",
    "print(f\"Rectangle area: {rectangle.area()}\")"
   ]
  },
  {
   "cell_type": "markdown",
   "id": "30ef850a-f01a-406f-9de8-5567965f96b3",
   "metadata": {},
   "source": [
    "Q 9. Demonstrate polymorphism by creating a function that can work with  different shapes objects to calculate and print their areas."
   ]
  },
  {
   "cell_type": "code",
   "execution_count": 37,
   "id": "ad7eca2e-a44a-4c99-bd55-3853f537045f",
   "metadata": {},
   "outputs": [
    {
     "ename": "TypeError",
     "evalue": "Can't instantiate abstract class Rectangle without an implementation for abstract method 'area'",
     "output_type": "error",
     "traceback": [
      "\u001b[1;31m---------------------------------------------------------------------------\u001b[0m",
      "\u001b[1;31mTypeError\u001b[0m                                 Traceback (most recent call last)",
      "Cell \u001b[1;32mIn[37], line 29\u001b[0m\n\u001b[0;32m     24\u001b[0m     \u001b[38;5;28;01mreturn\u001b[39;00m \u001b[38;5;28mself\u001b[39m\u001b[38;5;241m.\u001b[39mwidth \u001b[38;5;241m*\u001b[39m \u001b[38;5;28mself\u001b[39m\u001b[38;5;241m.\u001b[39mheight\n\u001b[0;32m     28\u001b[0m circle \u001b[38;5;241m=\u001b[39m Circle(\u001b[38;5;241m5\u001b[39m)\n\u001b[1;32m---> 29\u001b[0m rectangle \u001b[38;5;241m=\u001b[39m Rectangle(\u001b[38;5;241m4\u001b[39m, \u001b[38;5;241m6\u001b[39m)\n\u001b[0;32m     31\u001b[0m print_area(circle)      \n\u001b[0;32m     32\u001b[0m print_area(rectangle)\n",
      "\u001b[1;31mTypeError\u001b[0m: Can't instantiate abstract class Rectangle without an implementation for abstract method 'area'"
     ]
    }
   ],
   "source": [
    "from abc import ABC, abstractmethod\n",
    "import math\n",
    "\n",
    "class Shape(ABC):\n",
    "    @abstractmethod\n",
    "    def area(self):\n",
    "        pass\n",
    "\n",
    "# Circle subclass\n",
    "class Circle(Shape):\n",
    "    def __init__(self, radius):\n",
    "        self.radius = radius\n",
    "\n",
    "    def area(self):\n",
    "        return math.pi * (self.radius ** 2)\n",
    "\n",
    "# Rectangle subclass\n",
    "class Rectangle(Shape):\n",
    "    def __init__(self, width, height):\n",
    "        self.width = width\n",
    "        self.height = height\n",
    "\n",
    "def area(self):\n",
    "    return self.width * self.height\n",
    "\n",
    "\n",
    "\n",
    "circle = Circle(5)\n",
    "rectangle = Rectangle(4, 6)\n",
    "\n",
    "print_area(circle)      \n",
    "print_area(rectangle) "
   ]
  },
  {
   "cell_type": "code",
   "execution_count": null,
   "id": "e86bc40a-e92a-4f61-a9c7-6084c3bcb46a",
   "metadata": {},
   "outputs": [],
   "source": []
  },
  {
   "cell_type": "markdown",
   "id": "9ff68ed4-ff3c-4957-a75d-5730080a7101",
   "metadata": {},
   "source": [
    "Q10. Implement encapsulation in a 'bankacount' class with private attribute for 'balance' and 'account_number'. Include methods for deposit , withdrawal and inquiry ."
   ]
  },
  {
   "cell_type": "code",
   "execution_count": null,
   "id": "bb3c5c3a-622c-40dd-97ba-76f9bc34b5f0",
   "metadata": {},
   "outputs": [],
   "source": [
    "class BankAccount:\n",
    "    def __init__(self, account_number, initial_balance=0):\n",
    "        self.__account_number = account_number \n",
    "        self.__balance = initial_balance        \n",
    "    \n",
    "    # Method to deposit money\n",
    "    def deposit(self, amount):\n",
    "        if amount > 0:\n",
    "            self.__balance += amount\n",
    "            print(f\"Deposited {amount}. New balance is: {self.__balance}\")\n",
    "        else:\n",
    "            print(\"Deposit amount must be positive.\")\n",
    "    \n",
    "    # Method to withdraw money\n",
    "    def withdraw(self, amount):\n",
    "        if amount > 0:\n",
    "            if self.__balance >= amount:\n",
    "                self.__balance -= amount\n",
    "                print(f\"Withdrew {amount}. New balance is: {self.__balance}\")\n",
    "            else:\n",
    "                print(\"Insufficient funds.\")\n",
    "        else:\n",
    "            print(\"Withdrawal amount must be positive.\")\n",
    "    \n",
    "    # Method to check the current balance\n",
    "    def get_balance(self):\n",
    "        return self.__balance\n",
    "    \n",
    "    # Method to get account number\n",
    "    def get_account_number(self):\n",
    "        return self.__account_number\n",
    "\n",
    "account = BankAccount(\"123456789\", 1000)\n",
    "\n",
    "\n",
    "account.deposit(500)  \n",
    "\n",
    "# Withdrawing money\n",
    "account.withdraw(200)  # Withdrew 200. New balance is: 1300\n",
    "\n",
    "# Trying to withdraw more than balance\n",
    "account.withdraw(1500)  \n",
    "\n",
    "# Inquiry (checking balance)\n",
    "print(f\"Current balance: {account.get_balance()}\")  # Current balance: 1300\n",
    "\n",
    "# Getting account number\n",
    "print(f\"Account number: {account.get_account_number()}\")"
   ]
  },
  {
   "cell_type": "code",
   "execution_count": null,
   "id": "b16d0bcc-0ace-4a96-9dfd-8f655aff3d5e",
   "metadata": {},
   "outputs": [],
   "source": []
  },
  {
   "cell_type": "markdown",
   "id": "6d9dbe75-d627-4f79-ba6c-3e4d72ee14a7",
   "metadata": {},
   "source": [
    "Q 11.Write  a class that overrides the '__str__' and '__add__' magic method. What will these methods allow you to do ?"
   ]
  },
  {
   "cell_type": "code",
   "execution_count": 2,
   "id": "8bcca011-03d3-49a0-8815-a663393bcb11",
   "metadata": {},
   "outputs": [
    {
     "name": "stdout",
     "output_type": "stream",
     "text": [
      "Classroom with value: 10\n",
      "Classroom with value: 30\n",
      "Classroom with value: 17.9\n"
     ]
    }
   ],
   "source": [
    "class Classroom:\n",
    "    def __init__(self, value):\n",
    "        self.value = value\n",
    "    \n",
    "    def __str__(self):\n",
    "        return f\"Classroom with value: {self.value}\"\n",
    "    \n",
    "    def __add__(self, other):\n",
    "        if isinstance(other, Classroom):\n",
    "            return Classroom(self.value + other.value)\n",
    "        else:\n",
    "            return Classroom(self.value + other)\n",
    "\n",
    "a = Classroom(10)\n",
    "b = Classroom(20)\n",
    "\n",
    "print(a) \n",
    "\n",
    "c = a + b\n",
    "print(c) \n",
    "\n",
    "d = a + 7.9\n",
    "print(d) "
   ]
  },
  {
   "cell_type": "markdown",
   "id": "5e6d14f2-c739-4cf5-afe9-4e7cf871f11a",
   "metadata": {},
   "source": [
    "Q12. Create a decorate that measures and prints the execution timeof a function."
   ]
  },
  {
   "cell_type": "code",
   "execution_count": 43,
   "id": "4476488e-f425-4f0c-a768-8396c6db2638",
   "metadata": {},
   "outputs": [],
   "source": [
    "import time\n",
    "\n",
    "def timing_decorator(func):\n",
    "    def wrapper(*args, **kwargs):\n",
    "    \n",
    "        start_time = time.time()\n",
    "       \n",
    "        result = func(*args, **kwargs)\n",
    "         \n",
    "        end_time = time.time()\n",
    "        \n",
    "       \n",
    "        elapsed_time = end_time - start_time\n",
    "        print(f\"Execution time of {func.__name__}: {elapsed_time:.4f} seconds\")\n",
    "        \n",
    "        return result\n",
    "    \n",
    "    return wrapper\n",
    "\n",
    "def example_function(n):\n",
    "    \"\"\"A function that simulates some work by sleeping.\"\"\"\n",
    "    time.sleep(n)\n",
    "\n",
    "example_function(2)"
   ]
  },
  {
   "cell_type": "markdown",
   "id": "6b12eaf3-c3dd-416a-b58c-bde94363eef5",
   "metadata": {},
   "source": [
    "Q 13.Explain the concept of the measures and prints the execution time of a function."
   ]
  },
  {
   "cell_type": "markdown",
   "id": "ba6769c9-329e-465f-bc41-ad44793396bc",
   "metadata": {},
   "source": [
    "⦿ Import the Time Module: Import the time module, which provides functions for tracking time.\n",
    "\n",
    "⦿ Record Start Time: Before the function starts executing, record the current time. This is done using time.time(), which returns the current time in seconds since the epoch (January 1, 1970).\n",
    "\n",
    "⦿ Execute the Function: Call the function you want to measure.\n",
    "\n",
    "⦿ Record End Time: After the function has completed execution, record the current time again.\n",
    "\n",
    "⦿ Calculate Elapsed Time: Subtract the start time from the end time to get the elapsed time. This gives you the duration the function took to execute.\n",
    "\n",
    "⦿ Print the Execution Time: Print the elapsed time to see how long the function took to execute."
   ]
  },
  {
   "cell_type": "code",
   "execution_count": 40,
   "id": "024c8ef6-25bc-430e-9633-3d640c2f25af",
   "metadata": {},
   "outputs": [
    {
     "name": "stdout",
     "output_type": "stream",
     "text": [
      "Execution time: 2.0012 seconds\n"
     ]
    }
   ],
   "source": [
    "import time\n",
    "\n",
    "def example_function():\n",
    "   \n",
    "    time.sleep(2)  \n",
    "def measure_execution_time(func):\n",
    "  \n",
    "    start_time = time.time()\n",
    "   \n",
    "    func()\n",
    "    \n",
    "    end_time = time.time()\n",
    "\n",
    "    elapsed_time = end_time - start_time\n",
    "    \n",
    "    print(f\"Execution time: {elapsed_time:.4f} seconds\")\n",
    "\n",
    "measure_execution_time(example_function)"
   ]
  },
  {
   "cell_type": "markdown",
   "id": "be51e039-64ca-4e72-87d4-afe3ff15f028",
   "metadata": {},
   "source": [
    "Q 14.Write a class method that keeps track of the number of instances created from a class."
   ]
  },
  {
   "cell_type": "code",
   "execution_count": 39,
   "id": "7c285df3-0582-4524-916f-89c8dc533178",
   "metadata": {},
   "outputs": [
    {
     "name": "stdout",
     "output_type": "stream",
     "text": [
      "2\n"
     ]
    }
   ],
   "source": [
    "class InstanceCounter:\n",
    "    _instance_count = 0\n",
    "\n",
    "    def __init__(self):\n",
    "        InstanceCounter._instance_count += 1\n",
    "\n",
    "    @classmethod\n",
    "    def get_instance_count(cls):\n",
    "        return cls._instance_count\n",
    "        \n",
    "obj1 = InstanceCounter()\n",
    "obj2 = InstanceCounter()\n",
    "\n",
    "print(InstanceCounter.get_instance_count())"
   ]
  },
  {
   "cell_type": "markdown",
   "id": "dc994269-3a7f-4baf-a05e-7007d14970e2",
   "metadata": {},
   "source": [
    "Q 15. Implement a static method in a class that check if a given year is a leap year ."
   ]
  },
  {
   "cell_type": "code",
   "execution_count": 38,
   "id": "8fc9c85a-277e-4f36-b5d6-4442821875dd",
   "metadata": {},
   "outputs": [
    {
     "name": "stdout",
     "output_type": "stream",
     "text": [
      "True\n",
      "False\n"
     ]
    }
   ],
   "source": [
    "class YearUtils:\n",
    "    def is_leap_year(year):\n",
    "       \n",
    "        # Check if the year is divisible by 4\n",
    "        if year % 4 == 0:\n",
    "           \n",
    "            # Check if the year is divisible by 100\n",
    "            if year % 100 == 0:\n",
    "              \n",
    "                # Check if the year is divisible by 400\n",
    "                if year % 400 == 0:\n",
    "                    return True\n",
    "                else:\n",
    "                    return False\n",
    "            else:\n",
    "                return True\n",
    "        else:\n",
    "            return False\n",
    "\n",
    "print(YearUtils.is_leap_year(2024)) \n",
    "print(YearUtils.is_leap_year(2023))"
   ]
  },
  {
   "cell_type": "code",
   "execution_count": null,
   "id": "723e848f-32df-44b9-af32-b6b536251f64",
   "metadata": {},
   "outputs": [],
   "source": []
  }
 ],
 "metadata": {
  "kernelspec": {
   "display_name": "Python 3 (ipykernel)",
   "language": "python",
   "name": "python3"
  },
  "language_info": {
   "codemirror_mode": {
    "name": "ipython",
    "version": 3
   },
   "file_extension": ".py",
   "mimetype": "text/x-python",
   "name": "python",
   "nbconvert_exporter": "python",
   "pygments_lexer": "ipython3",
   "version": "3.12.4"
  }
 },
 "nbformat": 4,
 "nbformat_minor": 5
}
